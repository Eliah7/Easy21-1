{
 "cells": [
  {
   "cell_type": "code",
   "execution_count": 1,
   "metadata": {
    "collapsed": true
   },
   "outputs": [],
   "source": [
    "from easy21 import *\n",
    "import numpy as np"
   ]
  },
  {
   "cell_type": "markdown",
   "metadata": {},
   "source": [
    "- Apply Monte-Carlo control to Easy21. \n",
    "- [x] Initialise the value function to zero. \n",
    "- [x] Use a time-varying scalar step-size of αt = 1/N(st,at) \n",
    "- [x] and an ε-greedy exploration strategy with εt = N0/(N0 + N(st)), \n",
    "- [x] where N0 = 100 is a constant, \n",
    "- [x] N(s) is the number of times that state s has been visited, \n",
    "- [x] and N(s,a) is the number of times that action a has been selected from state s. \n",
    "- [x] Feel free to choose an alternative value for N0, if it helps producing better results. \n",
    "- [x] Plot the optimal value function V ∗ (s) = maxa Q∗ (s, a) using similar axes to the following figure taken from Sutton and Barto’s Blackjack example."
   ]
  },
  {
   "cell_type": "code",
   "execution_count": 2,
   "metadata": {
    "collapsed": false
   },
   "outputs": [],
   "source": [
    "class MC_Agent:\n",
    "    def __init__(self, environment, n0):\n",
    "        self.n0 = float(n0)\n",
    "        self.env = environment\n",
    "        \n",
    "        # N(s) is the number of times that state s has been visited\n",
    "        # N(s,a) is the number of times that action a has been selected from state s.\n",
    "        self.N = np.zeros((self.env.dealer_values_count,\n",
    "                           self.env.player_values_count, \n",
    "                           self.env.actions_count))\n",
    "        \n",
    "        self.Q = np.zeros((self.env.dealer_values_count,\n",
    "                           self.env.player_values_count, \n",
    "                           self.env.actions_count))\n",
    "        # self.E = np.zeros((self.env.dealer_values_count,\n",
    "        #                    self.env.player_values_count, \n",
    "        #                    self.env.actions_count))\n",
    "\n",
    "        # Initialise the value function to zero. \n",
    "        self.V = np.zeros((self.env.dealer_values_count, self.env.player_values_count))\n",
    "        \n",
    "        self.count_wins = 0\n",
    "        self.iterations = 0\n",
    "\n",
    "#     def get_action(self, s):\n",
    "#         a = Actions.hit\n",
    "#         return a\n",
    "    \n",
    "        # get optimal action, with epsilon exploration (epsilon dependent on number of visits to the state)\n",
    "    # ε-greedy exploration strategy with εt = N0/(N0 + N(st)), \n",
    "    def get_action(self, state):\n",
    "        dealer_idx = state.dealer-1\n",
    "        player_idx = state.player-1\n",
    "        n_visits = sum(self.N[dealer_idx, player_idx, :])\n",
    "\n",
    "        # epsilon = N0/(N0 + N(st)\n",
    "        curr_epsilon = self.n0 / (self.n0 + n_visits)\n",
    "\n",
    "        # epsilon greedy policy\n",
    "        if random.random() < curr_epsilon:\n",
    "            r_action = Actions.hit if random.random()<0.5 else Actions.stick\n",
    "#             if (dealer_idx == 0 and player_idx == 0):\n",
    "#                 print (\"epsilon:%s, random:%s \" % (curr_epsilon, r_action))\n",
    "            return r_action\n",
    "        else:\n",
    "            action = Actions.to_action(np.argmax(self.Q[dealer_idx, player_idx, :]))\n",
    "#             if (dealer_idx == 0 and player_idx == 0):\n",
    "#                 print (\"epsilon:%s Qvals:%s Q:%s\" % (curr_epsilon, self.Q[dealer_idx, player_idx, :], action))\n",
    "            return action\n",
    "\n",
    "    def train(self, iterations):        \n",
    "        \n",
    "        # Loop episodes\n",
    "        for episode in xrange(iterations):\n",
    "            episode_pairs = []\n",
    "            \n",
    "            # get initial state for current episode\n",
    "            s = self.env.get_start_state()\n",
    "            \n",
    "            # Execute until game ends\n",
    "            while not s.term:\n",
    "                \n",
    "                # get action with epsilon greedy policy\n",
    "                a = self.get_action(s)\n",
    "                \n",
    "                # store action state pairs\n",
    "                episode_pairs.append((s, a))\n",
    "                \n",
    "                # update visits\n",
    "                # N(s) is the number of times that state s has been visited\n",
    "                # N(s,a) is the number of times that action a has been selected from state s. \n",
    "                self.N[s.dealer-1, s.player-1, Actions.as_int(a)] += 1\n",
    "                \n",
    "                # execute action\n",
    "                s,r = self.env.step(s, a)\n",
    "\n",
    "            #if episode%10000==0: print \"Episode: %d, Reward: %d\" %(episode, my_state.rew)\n",
    "            self.count_wins = self.count_wins+1 if r==1 else self.count_wins\n",
    "\n",
    "            # Update Action value function accordingly\n",
    "            for curr_s, curr_a in episode_pairs:\n",
    "                # print s.dealer, s.player, s.r, a\n",
    "                dealer_idx = curr_s.dealer-1\n",
    "                player_idx = curr_s.player-1\n",
    "                action_idx = Actions.as_int(curr_a)\n",
    "                \n",
    "                # Use a time-varying scalar step-size of αt = 1/N(st,at) \n",
    "                step = 1.0 / sum(self.N[dealer_idx, player_idx, :])\n",
    "                error = r - self.Q[dealer_idx, player_idx, action_idx]\n",
    "                self.Q[dealer_idx, player_idx, action_idx] += step * error\n",
    "\n",
    "        self.iterations += iterations\n",
    "        print float(self.count_wins)/self.iterations*100\n",
    "\n",
    "        # Derive value function\n",
    "        for d in xrange(self.env.dealer_values_count):\n",
    "            for p in xrange(self.env.player_values_count):\n",
    "                self.V[d,p] = max(self.Q[d, p, :])\n",
    "                \n",
    "    def plot_frame(self, ax):\n",
    "        def get_stat_val(x, y):\n",
    "            return self.V[x, y]\n",
    "\n",
    "        X = np.arange(0, self.env.dealer_values_count, 1)\n",
    "        Y = np.arange(0, self.env.player_values_count, 1)\n",
    "        X, Y = np.meshgrid(X, Y)\n",
    "        Z = get_stat_val(X, Y)\n",
    "        surf = ax.plot_surface(X, Y, Z, rstride=1, cstride=1, cmap=cm.coolwarm, linewidth=0, antialiased=False)\n",
    "        return surf\n",
    "\n",
    "# TODO \n",
    "#  add missing values\n",
    "#  make train so it can be ran multiple sets of itteractions\n",
    "#   (and figure out when to compute the value function and to make sure its done from start of file"
   ]
  },
  {
   "cell_type": "code",
   "execution_count": 3,
   "metadata": {
    "collapsed": true
   },
   "outputs": [],
   "source": [
    "# where N0 = 100 is a constant, \n",
    "N0 = 100"
   ]
  },
  {
   "cell_type": "code",
   "execution_count": 4,
   "metadata": {
    "collapsed": false
   },
   "outputs": [
    {
     "name": "stdout",
     "output_type": "stream",
     "text": [
      "50.018\n",
      "50.508\n",
      "50.9506666667\n",
      "51.1525\n",
      "51.3256\n",
      "51.4363333333\n",
      "51.5508571429\n",
      "51.62825\n",
      "51.6582222222\n",
      "51.7446\n"
     ]
    }
   ],
   "source": [
    "N0 = 100\n",
    "agent = MC_Agent(Environment(), N0)\n",
    "for i in xrange (10):\n",
    "    agent.train(50000)"
   ]
  },
  {
   "cell_type": "code",
   "execution_count": 5,
   "metadata": {
    "collapsed": true
   },
   "outputs": [],
   "source": [
    "# Feel free to choose an alternative value for N0, if it helps producing better results."
   ]
  },
  {
   "cell_type": "code",
   "execution_count": 6,
   "metadata": {
    "collapsed": false
   },
   "outputs": [],
   "source": [
    "# N0 = 300\n",
    "# agent = MC_Agent(Environment(), N0)\n",
    "# for i in xrange (10):\n",
    "#     agent.train(50000)"
   ]
  },
  {
   "cell_type": "code",
   "execution_count": 7,
   "metadata": {
    "collapsed": false
   },
   "outputs": [],
   "source": [
    "# N0 = 30\n",
    "# agent = MC_Agent(Environment(), N0)\n",
    "# for i in xrange (10):\n",
    "#     agent.train(50000)"
   ]
  },
  {
   "cell_type": "markdown",
   "metadata": {
    "collapsed": true
   },
   "source": [
    "## Plot"
   ]
  },
  {
   "cell_type": "code",
   "execution_count": 8,
   "metadata": {
    "collapsed": true
   },
   "outputs": [],
   "source": [
    "def animate(frame):\n",
    "    i = agent.iterations\n",
    "    step_size = i\n",
    "    step_size = max(1, step_size)\n",
    "    step_size = min(step_size, 2 ** 16)\n",
    "    # agent.MC_run(100000)\n",
    "    # agent.MC_run(step_size)\n",
    "    agent.train(step_size)\n",
    "\n",
    "    ax.clear()\n",
    "    surf =  agent.plot_frame(ax)\n",
    "    plt.title('MC score:%s frame:%s step_size:%s ' % (float(agent.count_wins)/agent.iterations*100, frame, step_size) )\n",
    "    # plt.draw()\n",
    "    fig.canvas.draw()\n",
    "    print \"done \", frame, step_size, i\n",
    "    return surf"
   ]
  },
  {
   "cell_type": "code",
   "execution_count": 9,
   "metadata": {
    "collapsed": false,
    "scrolled": true
   },
   "outputs": [
    {
     "name": "stdout",
     "output_type": "stream",
     "text": [
      "0.0\n",
      "done  0 1 0\n",
      "50.0\n",
      "done  0 1 1\n",
      "50.0\n",
      "done  1 2 2\n",
      "75.0\n",
      "done  2 4 4\n",
      "68.75\n",
      "done  3 8 8\n",
      "43.75\n",
      "done  4 16 16\n",
      "43.75\n",
      "done  5 32 32\n",
      "43.75\n",
      "done  6 64 64\n",
      "44.53125\n",
      "done  7 128 128\n",
      "41.6015625\n",
      "done  8 256 256\n",
      "42.7734375\n",
      "done  9 512 512\n",
      "43.45703125\n",
      "done  10 1024 1024\n",
      "44.921875\n",
      "done  11 2048 2048\n",
      "45.9594726562\n",
      "done  12 4096 4096\n",
      "47.6989746094\n",
      "done  13 8192 8192\n",
      "48.9837646484\n",
      "done  14 16384 16384\n",
      "50.1190185547\n",
      "done  15 32768 32768\n",
      "50.7598876953\n",
      "done  16 65536 65536\n",
      "50.9902954102\n",
      "done  17 65536 131072\n",
      "51.2233734131\n",
      "done  18 65536 196608\n",
      "51.3018798828\n",
      "done  19 65536 262144\n",
      "51.3816833496\n",
      "done  20 65536 327680\n",
      "51.46484375\n",
      "done  21 65536 393216\n",
      "51.5430450439\n",
      "done  22 65536 458752\n",
      "51.5986124674\n",
      "done  23 65536 524288\n",
      "51.6563415527\n",
      "done  24 65536 589824\n",
      "51.6903963956\n",
      "done  25 65536 655360\n",
      "51.7303466797\n",
      "done  26 65536 720896\n",
      "51.7224825346\n",
      "done  27 65536 786432\n",
      "51.7578125\n",
      "done  28 65536 851968\n",
      "51.7815144857\n",
      "done  29 65536 917504\n",
      "51.7777442932\n",
      "done  30 65536 983040\n",
      "51.7987419577\n",
      "done  31 65536 1048576\n",
      "51.7946031359\n",
      "done  0 65536 1114112\n"
     ]
    },
    {
     "data": {
      "image/png": "[encoded data removed]",
      "text/plain": [
       "<matplotlib.figure.Figure at 0x1086b23d0>"
      ]
     },
     "metadata": {},
     "output_type": "display_data"
    }
   ],
   "source": [
    "import matplotlib.pyplot as plt\n",
    "import matplotlib.animation as animation\n",
    "from mpl_toolkits.mplot3d import Axes3D\n",
    "from matplotlib import cm\n",
    "%matplotlib inline \n",
    "\n",
    "N0 = 100\n",
    "agent = MC_Agent(Environment(), N0)\n",
    "fig = plt.figure(\"N100\")\n",
    "ax = fig.add_subplot(111, projection='3d')\n",
    "\n",
    "ani = animation.FuncAnimation(fig, animate, 32, repeat=False)\n",
    "\n",
    "# note: requires gif writer; swap with plt.show()\n",
    "ani.save('MC_Agent.gif', writer='imagemagick', fps=3)\n",
    "# plt.show()"
   ]
  },
  {
   "cell_type": "code",
   "execution_count": 10,
   "metadata": {
    "collapsed": false
   },
   "outputs": [
    {
     "data": {
      "text/html": [
       "<img src=\"MC_Agent.gif\"/>"
      ],
      "text/plain": [
       "<IPython.core.display.Image object>"
      ]
     },
     "execution_count": 10,
     "metadata": {},
     "output_type": "execute_result"
    }
   ],
   "source": [
    "from IPython.display import Image\n",
    "Image(url=\"MC_Agent.gif\")"
   ]
  },
  {
   "cell_type": "code",
   "execution_count": 11,
   "metadata": {
    "collapsed": true
   },
   "outputs": [],
   "source": [
    "# Feel free to choose an alternative value for N0, if it helps producing better results."
   ]
  },
  {
   "cell_type": "code",
   "execution_count": 12,
   "metadata": {
    "collapsed": false,
    "scrolled": true
   },
   "outputs": [
    {
     "name": "stdout",
     "output_type": "stream",
     "text": [
      "100.0\n",
      "done  0 1 0\n",
      "50.0\n",
      "done  0 1 1\n",
      "50.0\n",
      "done  1 2 2\n",
      "62.5\n",
      "done  2 4 4\n",
      "56.25\n",
      "done  3 8 8\n",
      "56.25\n",
      "done  4 16 16\n",
      "53.125\n",
      "done  5 32 32\n",
      "53.90625\n",
      "done  6 64 64\n",
      "48.828125\n",
      "done  7 128 128\n",
      "45.703125\n",
      "done  8 256 256\n",
      "44.140625\n",
      "done  9 512 512\n",
      "42.87109375\n",
      "done  10 1024 1024\n",
      "43.4326171875\n",
      "done  11 2048 2048\n",
      "44.7265625\n",
      "done  12 4096 4096\n",
      "44.4519042969\n",
      "done  13 8192 8192\n",
      "44.3176269531\n",
      "done  14 16384 16384\n",
      "44.3939208984\n",
      "done  15 32768 32768\n",
      "44.5449829102\n",
      "done  16 65536 65536\n",
      "44.687906901\n",
      "done  17 65536 131072\n",
      "44.7261810303\n",
      "done  18 65536 196608\n",
      "44.7030639648\n",
      "done  19 65536 262144\n",
      "44.7209676107\n",
      "done  20 65536 327680\n",
      "44.6993146624\n",
      "done  21 65536 393216\n",
      "44.7061538696\n",
      "done  22 65536 458752\n",
      "44.7002834744\n",
      "done  23 65536 524288\n",
      "44.7387695312\n",
      "done  24 65536 589824\n",
      "44.7674837979\n",
      "done  25 65536 655360\n",
      "44.7835286458\n",
      "done  26 65536 720896\n",
      "44.7946401743\n",
      "done  27 65536 786432\n",
      "44.7789873396\n",
      "done  28 65536 851968\n",
      "44.775797526\n",
      "done  29 65536 917504\n",
      "44.7898864746\n",
      "done  30 65536 983040\n",
      "44.7836483226\n",
      "done  31 65536 1048576\n",
      "44.7913275825\n",
      "done  32 65536 1114112\n",
      "44.8044626336\n",
      "done  33 65536 1179648\n",
      "44.8040008545\n",
      "done  34 65536 1245184\n",
      "44.8043823242\n",
      "done  35 65536 1310720\n",
      "44.7936318137\n",
      "done  36 65536 1376256\n",
      "44.8104858398\n",
      "done  37 65536 1441792\n",
      "44.8188781738\n",
      "done  38 65536 1507328\n",
      "44.811340332\n",
      "done  39 65536 1572864\n",
      "44.8214017428\n",
      "done  40 65536 1638400\n",
      "44.8269314236\n",
      "done  41 65536 1703936\n",
      "44.8259081159\n",
      "done  42 65536 1769472\n",
      "44.8353208345\n",
      "done  43 65536 1835008\n",
      "44.845123291\n",
      "done  44 65536 1900544\n",
      "44.8605445123\n",
      "done  45 65536 1966080\n",
      "44.849395752\n",
      "done  46 65536 2031616\n",
      "44.8533491655\n",
      "done  47 65536 2097152\n",
      "44.8515499339\n",
      "done  48 65536 2162688\n",
      "44.8488507952\n",
      "done  49 65536 2228224\n",
      "44.856982761\n",
      "done  0 65536 2293760\n"
     ]
    },
    {
     "data": {
      "image/png": "[encoded data removed]",
      "text/plain": [
       "<matplotlib.figure.Figure at 0x1088cec50>"
      ]
     },
     "metadata": {},
     "output_type": "display_data"
    }
   ],
   "source": [
    "import matplotlib.pyplot as plt\n",
    "import matplotlib.animation as animation\n",
    "from mpl_toolkits.mplot3d import Axes3D\n",
    "from matplotlib import cm\n",
    "%matplotlib inline \n",
    "\n",
    "N0 = 1000000\n",
    "agent = MC_Agent(Environment(), N0)\n",
    "fig = plt.figure(\"N1000000\")\n",
    "ax = fig.add_subplot(111, projection='3d')\n",
    "\n",
    "ani = animation.FuncAnimation(fig, animate, 50, repeat=False)\n",
    "\n",
    "# note: requires gif writer; swap with plt.show()\n",
    "ani.save('MC_Agent_N1000000.gif', writer='imagemagick', fps=3)\n",
    "# plt.show()"
   ]
  },
  {
   "cell_type": "code",
   "execution_count": 13,
   "metadata": {
    "collapsed": false
   },
   "outputs": [
    {
     "data": {
      "text/html": [
       "<img src=\"MC_Agent_N1000000.gif\"/>"
      ],
      "text/plain": [
       "<IPython.core.display.Image object>"
      ]
     },
     "execution_count": 13,
     "metadata": {},
     "output_type": "execute_result"
    }
   ],
   "source": [
    "from IPython.display import Image\n",
    "Image(url=\"MC_Agent_N1000000.gif\")"
   ]
  },
  {
   "cell_type": "code",
   "execution_count": 14,
   "metadata": {
    "collapsed": false,
    "scrolled": true
   },
   "outputs": [
    {
     "name": "stdout",
     "output_type": "stream",
     "text": [
      "0.0\n",
      "done  0 1 0\n",
      "50.0\n",
      "done  0 1 1\n",
      "50.0\n",
      "done  1 2 2\n",
      "50.0\n",
      "done  2 4 4\n",
      "37.5\n",
      "done  3 8 8\n",
      "43.75\n",
      "done  4 16 16\n",
      "50.0\n",
      "done  5 32 32\n",
      "46.09375\n",
      "done  6 64 64\n",
      "44.53125\n",
      "done  7 128 128\n",
      "44.53125\n",
      "done  8 256 256\n",
      "46.09375\n",
      "done  9 512 512\n",
      "47.265625\n",
      "done  10 1024 1024\n",
      "47.3388671875\n",
      "done  11 2048 2048\n",
      "48.3642578125\n",
      "done  12 4096 4096\n",
      "49.1149902344\n",
      "done  13 8192 8192\n",
      "49.4354248047\n",
      "done  14 16384 16384\n",
      "49.6887207031\n",
      "done  15 32768 32768\n",
      "49.7673034668\n",
      "done  16 65536 65536\n",
      "50.0111897786\n",
      "done  17 65536 131072\n",
      "50.0957489014\n",
      "done  18 65536 196608\n",
      "50.0939941406\n",
      "done  19 65536 262144\n",
      "50.1243591309\n",
      "done  20 65536 327680\n",
      "50.1347133092\n",
      "done  21 65536 393216\n",
      "50.1184463501\n",
      "done  22 65536 458752\n",
      "50.0944349501\n",
      "done  23 65536 524288\n",
      "50.075378418\n",
      "done  24 65536 589824\n",
      "50.0894719904\n",
      "done  25 65536 655360\n",
      "50.0904083252\n",
      "done  26 65536 720896\n",
      "50.0821627103\n",
      "done  27 65536 786432\n",
      "50.0813075474\n",
      "done  28 65536 851968\n",
      "50.0719197591\n",
      "done  29 65536 917504\n",
      "50.083732605\n",
      "done  30 65536 983040\n",
      "50.0952327953\n",
      "done  31 65536 1048576\n",
      "50.0992669\n",
      "done  32 65536 1114112\n",
      "50.0946044922\n",
      "done  33 65536 1179648\n",
      "50.0969696045\n",
      "done  34 65536 1245184\n",
      "50.0833420526\n",
      "done  35 65536 1310720\n",
      "50.0814958052\n",
      "done  36 65536 1376256\n",
      "50.0816013502\n",
      "done  37 65536 1441792\n",
      "50.0675837199\n",
      "done  38 65536 1507328\n",
      "50.07421875\n",
      "done  39 65536 1572864\n",
      "50.0787588266\n",
      "done  40 65536 1638400\n",
      "50.0710946542\n",
      "done  41 65536 1703936\n",
      "50.0729152134\n",
      "done  42 65536 1769472\n",
      "50.0807137325\n",
      "done  43 65536 1835008\n",
      "50.0724283854\n",
      "done  44 65536 1900544\n",
      "50.0708795363\n",
      "done  45 65536 1966080\n",
      "50.0660419464\n",
      "done  46 65536 2031616\n",
      "50.0661214193\n",
      "done  47 65536 2097152\n",
      "50.0709084903\n",
      "done  48 65536 2162688\n",
      "50.0740705218\n",
      "done  49 65536 2228224\n",
      "50.074005127\n",
      "done  0 65536 2293760\n"
     ]
    },
    {
     "data": {
      "image/png": "[encoded data removed]",
      "text/plain": [
       "<matplotlib.figure.Figure at 0x1089ca7d0>"
      ]
     },
     "metadata": {},
     "output_type": "display_data"
    }
   ],
   "source": [
    "import matplotlib.pyplot as plt\n",
    "import matplotlib.animation as animation\n",
    "from mpl_toolkits.mplot3d import Axes3D\n",
    "from matplotlib import cm\n",
    "%matplotlib inline \n",
    "\n",
    "N0 = 1\n",
    "agent = MC_Agent(Environment(), N0)\n",
    "fig = plt.figure(\"N1\")\n",
    "ax = fig.add_subplot(111, projection='3d')\n",
    "\n",
    "ani = animation.FuncAnimation(fig, animate, 50, repeat=False)\n",
    "\n",
    "# note: requires gif writer; swap with plt.show()\n",
    "ani.save('MC_Agent_N1.gif', writer='imagemagick', fps=3)\n",
    "# plt.show()"
   ]
  },
  {
   "cell_type": "code",
   "execution_count": 15,
   "metadata": {
    "collapsed": false
   },
   "outputs": [
    {
     "data": {
      "text/html": [
       "<img src=\"MC_Agent_N1.gif\"/>"
      ],
      "text/plain": [
       "<IPython.core.display.Image object>"
      ]
     },
     "execution_count": 15,
     "metadata": {},
     "output_type": "execute_result"
    }
   ],
   "source": [
    "from IPython.display import Image\n",
    "Image(url=\"MC_Agent_N1.gif\")"
   ]
  },
  {
   "cell_type": "code",
   "execution_count": null,
   "metadata": {
    "collapsed": true
   },
   "outputs": [],
   "source": []
  },
  {
   "cell_type": "code",
   "execution_count": 20,
   "metadata": {
    "collapsed": false,
    "scrolled": true
   },
   "outputs": [
    {
     "name": "stdout",
     "output_type": "stream",
     "text": [
      "0.0\n",
      "done  0 1 0\n",
      "50.0\n",
      "done  0 1 1\n",
      "50.0\n",
      "done  1 2 2\n",
      "25.0\n",
      "done  2 4 4\n",
      "25.0\n",
      "done  3 8 8\n",
      "34.375\n",
      "done  4 16 16\n",
      "45.3125\n",
      "done  5 32 32\n",
      "39.0625\n",
      "done  6 64 64\n",
      "36.328125\n",
      "done  7 128 128\n",
      "40.625\n",
      "done  8 256 256\n",
      "43.26171875\n",
      "done  9 512 512\n",
      "43.017578125\n",
      "done  10 1024 1024\n",
      "44.384765625\n",
      "done  11 2048 2048\n",
      "45.0439453125\n",
      "done  12 4096 4096\n",
      "45.3369140625\n",
      "done  13 8192 8192\n",
      "46.2921142578\n",
      "done  14 16384 16384\n",
      "47.2717285156\n",
      "done  15 32768 32768\n",
      "48.3474731445\n",
      "done  16 65536 65536\n",
      "48.8789876302\n",
      "done  17 65536 131072\n",
      "49.3667602539\n",
      "done  18 65536 196608\n",
      "49.6713256836\n",
      "done  19 65536 262144\n",
      "49.9188741048\n",
      "done  20 65536 327680\n",
      "50.0823974609\n",
      "done  21 65536 393216\n",
      "50.2656936646\n",
      "done  22 65536 458752\n",
      "50.3904554579\n",
      "done  23 65536 524288\n",
      "50.5033874512\n",
      "done  24 65536 589824\n",
      "50.5722045898\n",
      "done  25 65536 655360\n",
      "50.6757100423\n",
      "done  26 65536 720896\n",
      "50.7508497972\n",
      "done  27 65536 786432\n",
      "50.8113316127\n",
      "done  28 65536 851968\n",
      "50.8758544922\n",
      "done  29 65536 917504\n",
      "50.9147644043\n",
      "done  30 65536 983040\n",
      "50.9786269244\n",
      "done  31 65536 1048576\n",
      "51.0340372721\n",
      "done  32 65536 1114112\n",
      "51.0727731805\n",
      "done  33 65536 1179648\n",
      "51.1121368408\n",
      "done  34 65536 1245184\n",
      "51.1465163458\n",
      "done  35 65536 1310720\n",
      "51.1770768599\n",
      "done  36 65536 1376256\n",
      "51.2161254883\n",
      "done  37 65536 1441792\n",
      "51.2371699015\n",
      "done  38 65536 1507328\n",
      "51.2661132812\n",
      "done  39 65536 1572864\n",
      "51.3013399564\n",
      "done  40 65536 1638400\n",
      "51.3310750326\n",
      "done  41 65536 1703936\n",
      "51.3511657715\n",
      "done  42 65536 1769472\n",
      "51.3807625606\n",
      "done  43 65536 1835008\n",
      "51.4115397135\n",
      "done  44 65536 1900544\n",
      "51.4346215033\n",
      "done  45 65536 1966080\n",
      "51.4609336853\n",
      "done  46 65536 2031616\n",
      "51.4913385565\n",
      "done  47 65536 2097152\n",
      "51.5016892377\n",
      "done  48 65536 2162688\n",
      "51.5147617885\n",
      "done  49 65536 2228224\n",
      "51.5249464247\n",
      "done  0 65536 2293760\n"
     ]
    },
    {
     "data": {
      "image/png": "[encoded data removed]",
      "text/plain": [
       "<matplotlib.figure.Figure at 0x108eaee50>"
      ]
     },
     "metadata": {},
     "output_type": "display_data"
    }
   ],
   "source": [
    "import matplotlib.pyplot as plt\n",
    "import matplotlib.animation as animation\n",
    "from mpl_toolkits.mplot3d import Axes3D\n",
    "from matplotlib import cm\n",
    "%matplotlib inline \n",
    "\n",
    "N0 = 1000\n",
    "agent = MC_Agent(Environment(), N0)\n",
    "fig = plt.figure(\"Nbest\")\n",
    "ax = fig.add_subplot(111, projection='3d')\n",
    "\n",
    "ani = animation.FuncAnimation(fig, animate, 50, repeat=False)\n",
    "\n",
    "# note: requires gif writer; swap with plt.show()\n",
    "ani.save('MC_Agent_Nbest.gif', writer='imagemagick', fps=3)\n",
    "# plt.show()"
   ]
  },
  {
   "cell_type": "code",
   "execution_count": 21,
   "metadata": {
    "collapsed": false
   },
   "outputs": [
    {
     "data": {
      "text/html": [
       "<img src=\"MC_Agent_Nbest.gif\"/>"
      ],
      "text/plain": [
       "<IPython.core.display.Image object>"
      ]
     },
     "execution_count": 21,
     "metadata": {},
     "output_type": "execute_result"
    }
   ],
   "source": [
    "from IPython.display import Image\n",
    "Image(url=\"MC_Agent_Nbest.gif\")"
   ]
  },
  {
   "cell_type": "code",
   "execution_count": null,
   "metadata": {
    "collapsed": true
   },
   "outputs": [],
   "source": []
  }
 ],
 "metadata": {
  "kernelspec": {
   "display_name": "Python 2",
   "language": "python",
   "name": "python2"
  },
  "language_info": {
   "codemirror_mode": {
    "name": "ipython",
    "version": 2
   },
   "file_extension": ".py",
   "mimetype": "text/x-python",
   "name": "python",
   "nbconvert_exporter": "python",
   "pygments_lexer": "ipython2",
   "version": "2.7.11"
  }
 },
 "nbformat": 4,
 "nbformat_minor": 0
}
