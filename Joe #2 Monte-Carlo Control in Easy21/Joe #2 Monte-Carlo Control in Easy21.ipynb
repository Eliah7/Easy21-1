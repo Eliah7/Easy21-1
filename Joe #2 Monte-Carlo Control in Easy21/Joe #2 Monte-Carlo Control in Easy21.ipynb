{
 "cells": [
  {
   "cell_type": "code",
   "execution_count": 1,
   "metadata": {
    "collapsed": true
   },
   "outputs": [],
   "source": [
    "from easy21 import *\n",
    "import numpy as np"
   ]
  },
  {
   "cell_type": "markdown",
   "metadata": {},
   "source": [
    "- Apply Monte-Carlo control to Easy21. \n",
    "- [x] Initialise the value function to zero. \n",
    "- [x] Use a time-varying scalar step-size of αt = 1/N(st,at) \n",
    "- [x] and an ε-greedy exploration strategy with εt = N0/(N0 + N(st)), \n",
    "- [x] where N0 = 100 is a constant, \n",
    "- [x] N(s) is the number of times that state s has been visited, \n",
    "- [x] and N(s,a) is the number of times that action a has been selected from state s. \n",
    "- [x] Feel free to choose an alternative value for N0, if it helps producing better results. \n",
    "- [x] Plot the optimal value function V ∗ (s) = maxa Q∗ (s, a) using similar axes to the following figure taken from Sutton and Barto’s Blackjack example."
   ]
  },
  {
   "cell_type": "code",
   "execution_count": 2,
   "metadata": {
    "collapsed": true
   },
   "outputs": [],
   "source": [
    "class MC_Agent:\n",
    "    def __init__(self, environment, n0):\n",
    "        self.n0 = float(n0)\n",
    "        self.env = environment\n",
    "        \n",
    "        # N(s) is the number of times that state s has been visited\n",
    "        # N(s,a) is the number of times that action a has been selected from state s.\n",
    "        self.N = np.zeros((self.env.dealer_values_count,\n",
    "                           self.env.player_values_count, \n",
    "                           self.env.actions_count))\n",
    "        \n",
    "        self.Q = np.zeros((self.env.dealer_values_count,\n",
    "                           self.env.player_values_count, \n",
    "                           self.env.actions_count))\n",
    "        # self.E = np.zeros((self.env.dealer_values_count,\n",
    "        #                    self.env.player_values_count, \n",
    "        #                    self.env.actions_count))\n",
    "\n",
    "        # Initialise the value function to zero. \n",
    "        self.V = np.zeros((self.env.dealer_values_count, self.env.player_values_count))\n",
    "        \n",
    "        self.count_wins = 0\n",
    "        self.iterations = 0\n",
    "\n",
    "#     def get_action(self, s):\n",
    "#         a = Actions.hit\n",
    "#         return a\n",
    "    \n",
    "        # get optimal action, with epsilon exploration (epsilon dependent on number of visits to the state)\n",
    "    # ε-greedy exploration strategy with εt = N0/(N0 + N(st)), \n",
    "    def get_action(self, state):\n",
    "        dealer_idx = state.dealer-1\n",
    "        player_idx = state.player-1\n",
    "        n_visits = sum(self.N[dealer_idx, player_idx, :])\n",
    "\n",
    "        # epsilon = N0/(N0 + N(st)\n",
    "        curr_epsilon = self.n0 / (self.n0 + n_visits)\n",
    "\n",
    "        # epsilon greedy policy\n",
    "        if random.random() < curr_epsilon:\n",
    "            return Actions.hit if random.random()<0.5 else Actions.stick\n",
    "        else:\n",
    "            return Actions.to_action(np.argmax(self.Q[dealer_idx, player_idx, :]))\n",
    "\n",
    "    def train(self, iterations):        \n",
    "        \n",
    "        # Loop episodes\n",
    "        for episode in xrange(iterations):\n",
    "            episode_pairs = []\n",
    "            \n",
    "            # get initial state for current episode\n",
    "            s = self.env.get_start_state()\n",
    "            \n",
    "            # Execute until game ends\n",
    "            while not s.term:\n",
    "                \n",
    "                # get action with epsilon greedy policy\n",
    "                a = self.get_action(s)\n",
    "                \n",
    "                # store action state pairs\n",
    "                episode_pairs.append((s, a))\n",
    "                \n",
    "                # update visits\n",
    "                # N(s) is the number of times that state s has been visited\n",
    "                # N(s,a) is the number of times that action a has been selected from state s. \n",
    "                self.N[s.dealer-1, s.player-1, Actions.as_int(a)] += 1\n",
    "                \n",
    "                # execute action\n",
    "                s,r = self.env.step(s, a)\n",
    "\n",
    "            #if episode%10000==0: print \"Episode: %d, Reward: %d\" %(episode, my_state.rew)\n",
    "            self.count_wins = self.count_wins+1 if r==1 else self.count_wins\n",
    "\n",
    "            # Update Action value function accordingly\n",
    "            for curr_s, curr_a in episode_pairs:\n",
    "                # print s.dealer, s.player, s.r, a\n",
    "                dealer_idx = curr_s.dealer-1\n",
    "                player_idx = curr_s.player-1\n",
    "                action_idx = Actions.as_int(curr_a)\n",
    "                \n",
    "                # Use a time-varying scalar step-size of αt = 1/N(st,at) \n",
    "                step = 1.0 / sum(self.N[dealer_idx, player_idx, :])\n",
    "                error = r - self.Q[dealer_idx, player_idx, action_idx]\n",
    "                self.Q[dealer_idx, player_idx, action_idx] += step * error\n",
    "\n",
    "        self.iterations += iterations\n",
    "        print float(self.count_wins)/self.iterations*100\n",
    "\n",
    "        # Derive value function\n",
    "        for d in xrange(self.env.dealer_values_count):\n",
    "            for p in xrange(self.env.player_values_count):\n",
    "                self.V[d,p] = max(self.Q[d, p, :])\n",
    "                \n",
    "    def plot_frame(self, ax):\n",
    "        def get_stat_val(x, y):\n",
    "            return self.V[x, y]\n",
    "\n",
    "        X = np.arange(0, self.env.dealer_values_count, 1)\n",
    "        Y = np.arange(0, self.env.player_values_count, 1)\n",
    "        X, Y = np.meshgrid(X, Y)\n",
    "        Z = get_stat_val(X, Y)\n",
    "        surf = ax.plot_surface(X, Y, Z, rstride=1, cstride=1, cmap=cm.coolwarm, linewidth=0, antialiased=False)\n",
    "        return surf\n",
    "\n",
    "# TODO \n",
    "#  add missing values\n",
    "#  make train so it can be ran multiple sets of itteractions\n",
    "#   (and figure out when to compute the value function and to make sure its done from start of file"
   ]
  },
  {
   "cell_type": "code",
   "execution_count": 3,
   "metadata": {
    "collapsed": true
   },
   "outputs": [],
   "source": [
    "# where N0 = 100 is a constant, \n",
    "N0 = 100"
   ]
  },
  {
   "cell_type": "code",
   "execution_count": 4,
   "metadata": {
    "collapsed": false
   },
   "outputs": [
    {
     "name": "stdout",
     "output_type": "stream",
     "text": [
      "50.018\n",
      "50.508\n",
      "50.9506666667\n",
      "51.1525\n",
      "51.3256\n",
      "51.4363333333\n",
      "51.5508571429\n",
      "51.62825\n",
      "51.6582222222\n",
      "51.7446\n"
     ]
    }
   ],
   "source": [
    "N0 = 100\n",
    "agent = MC_Agent(Environment(), N0)\n",
    "for i in xrange (10):\n",
    "    agent.train(50000)"
   ]
  },
  {
   "cell_type": "code",
   "execution_count": 6,
   "metadata": {
    "collapsed": true
   },
   "outputs": [],
   "source": [
    "# Feel free to choose an alternative value for N0, if it helps producing better results."
   ]
  },
  {
   "cell_type": "code",
   "execution_count": 7,
   "metadata": {
    "collapsed": false
   },
   "outputs": [
    {
     "name": "stdout",
     "output_type": "stream",
     "text": [
      "48.242\n",
      "49.48\n",
      "49.9646666667\n",
      "50.3435\n",
      "50.5864\n",
      "50.7013333333\n",
      "50.8582857143\n",
      "50.964\n",
      "51.0493333333\n",
      "51.1312\n"
     ]
    }
   ],
   "source": [
    "N0 = 300\n",
    "agent = MC_Agent(Environment(), N0)\n",
    "for i in xrange (10):\n",
    "    agent.train(50000)"
   ]
  },
  {
   "cell_type": "code",
   "execution_count": 8,
   "metadata": {
    "collapsed": false
   },
   "outputs": [
    {
     "name": "stdout",
     "output_type": "stream",
     "text": [
      "49.776\n",
      "50.677\n",
      "51.0226666667\n",
      "51.1155\n",
      "51.3028\n",
      "51.3463333333\n",
      "51.3622857143\n",
      "51.4335\n",
      "51.4482222222\n",
      "51.4692\n"
     ]
    }
   ],
   "source": [
    "N0 = 30\n",
    "agent = MC_Agent(Environment(), N0)\n",
    "for i in xrange (10):\n",
    "    agent.train(50000)"
   ]
  },
  {
   "cell_type": "markdown",
   "metadata": {
    "collapsed": true
   },
   "source": [
    "## Plot"
   ]
  },
  {
   "cell_type": "code",
   "execution_count": 50,
   "metadata": {
    "collapsed": true
   },
   "outputs": [],
   "source": [
    "N0 = 100\n",
    "agent = MC_Agent(Environment(), N0)"
   ]
  },
  {
   "cell_type": "code",
   "execution_count": 51,
   "metadata": {
    "collapsed": true
   },
   "outputs": [],
   "source": [
    "def animate(frame):\n",
    "    i = agent.iterations\n",
    "    step_size = i\n",
    "    step_size = max(1, step_size)\n",
    "    step_size = min(step_size, 2 ** 16)\n",
    "    # agent.MC_run(100000)\n",
    "    # agent.MC_run(step_size)\n",
    "    agent.train(step_size)\n",
    "\n",
    "    ax.clear()\n",
    "    surf =  agent.plot_frame(ax)\n",
    "    plt.title('MC score:%s frame:%s step_size:%s ' % (float(agent.count_wins)/agent.iterations*100, frame, step_size) )\n",
    "    # plt.draw()\n",
    "    fig.canvas.draw()\n",
    "    print \"done \", frame, step_size, i\n",
    "    return surf, \"hello\", \"snow\""
   ]
  },
  {
   "cell_type": "code",
   "execution_count": 52,
   "metadata": {
    "collapsed": false
   },
   "outputs": [
    {
     "name": "stdout",
     "output_type": "stream",
     "text": [
      "100.0\n",
      "done  0 1 0\n",
      "50.0\n",
      "done  0 1 1\n",
      "50.0\n",
      "done  1 2 2\n",
      "50.0\n",
      "done  2 4 4\n",
      "56.25\n",
      "done  3 8 8\n",
      "53.125\n",
      "done  4 16 16\n",
      "45.3125\n",
      "done  5 32 32\n",
      "48.4375\n",
      "done  6 64 64\n",
      "48.4375\n",
      "done  7 128 128\n",
      "45.1171875\n",
      "done  8 256 256\n",
      "45.60546875\n",
      "done  9 512 512\n",
      "45.361328125\n",
      "done  10 1024 1024\n",
      "46.2646484375\n",
      "done  11 2048 2048\n",
      "46.9970703125\n",
      "done  12 4096 4096\n",
      "47.8271484375\n",
      "done  13 8192 8192\n",
      "48.8891601562\n",
      "done  14 16384 16384\n",
      "49.8748779297\n",
      "done  15 32768 32768\n",
      "50.4989624023\n",
      "done  16 65536 65536\n",
      "50.8717854818\n",
      "done  17 65536 131072\n",
      "51.0749816895\n",
      "done  18 65536 196608\n",
      "51.2048339844\n",
      "done  19 65536 262144\n",
      "51.3186136882\n",
      "done  20 65536 327680\n",
      "51.394871303\n",
      "done  21 65536 393216\n",
      "51.4612197876\n",
      "done  22 65536 458752\n",
      "51.5019734701\n",
      "done  23 65536 524288\n",
      "51.5293884277\n",
      "done  24 65536 589824\n",
      "51.5848333185\n",
      "done  25 65536 655360\n",
      "51.6105651855\n",
      "done  26 65536 720896\n",
      "51.6402024489\n",
      "done  27 65536 786432\n",
      "51.6420636858\n",
      "done  28 65536 851968\n",
      "51.6672770182\n",
      "done  29 65536 917504\n",
      "51.6765594482\n",
      "done  30 65536 983040\n",
      "51.6923792222\n",
      "done  31 65536 1048576\n",
      "51.7110188802\n",
      "done  32 65536 1114112\n",
      "51.7217535722\n",
      "done  33 65536 1179648\n",
      "51.7189025879\n",
      "done  34 65536 1245184\n",
      "51.7380487351\n",
      "done  35 65536 1310720\n",
      "51.7438715154\n",
      "done  36 65536 1376256\n",
      "51.7597364343\n",
      "done  37 65536 1441792\n",
      "51.7618815104\n",
      "done  38 65536 1507328\n",
      "51.7738037109\n",
      "done  39 65536 1572864\n",
      "51.7786466158\n",
      "done  40 65536 1638400\n",
      "51.7848827221\n",
      "done  41 65536 1703936\n",
      "51.7926352365\n",
      "done  42 65536 1769472\n",
      "51.8015894397\n",
      "done  43 65536 1835008\n",
      "51.8116251628\n",
      "done  44 65536 1900544\n",
      "51.8206196447\n",
      "done  45 65536 1966080\n",
      "51.8267631531\n",
      "done  46 65536 2031616\n",
      "51.8323031339\n",
      "done  47 65536 2097152\n",
      "51.8365747788\n",
      "done  48 65536 2162688\n",
      "51.840863909\n",
      "done  49 65536 2228224\n",
      "51.8514421251\n",
      "done  50 65536 2293760\n",
      "51.8456123971\n",
      "done  51 65536 2359296\n",
      "51.8555892141\n",
      "done  52 65536 2424832\n",
      "51.859772511\n",
      "done  53 65536 2490368\n",
      "51.8622207642\n",
      "done  54 65536 2555904\n",
      "51.869127227\n",
      "done  55 65536 2621440\n",
      "51.8755594889\n",
      "done  56 65536 2686976\n",
      "51.8723953602\n",
      "done  57 65536 2752512\n",
      "51.8752358176\n",
      "done  58 65536 2818048\n",
      "51.8794080946\n",
      "done  59 65536 2883584\n",
      "51.8861190132\n",
      "done  60 65536 2949120\n",
      "51.8877394656\n",
      "done  61 65536 3014656\n",
      "51.9006093343\n",
      "done  62 65536 3080192\n",
      "51.8988784479\n",
      "done  63 65536 3145728\n",
      "51.9025268555\n",
      "done  64 65536 3211264\n",
      "51.8990909352\n",
      "done  65 65536 3276800\n",
      "51.9040914682\n",
      "done  66 65536 3342336\n",
      "51.8978190872\n",
      "done  67 65536 3407872\n",
      "51.8953959147\n",
      "done  68 65536 3473408\n",
      "51.8950306286\n",
      "done  69 65536 3538944\n",
      "51.9025802612\n",
      "done  70 65536 3604480\n",
      "51.9062778406\n",
      "done  71 65536 3670016\n",
      "51.9027973044\n",
      "done  72 65536 3735552\n",
      "51.9057710292\n",
      "done  73 65536 3801088\n",
      "51.9129435221\n",
      "done  74 65536 3866624\n",
      "51.9077488633\n",
      "done  75 65536 3932160\n",
      "51.9071763562\n",
      "done  76 65536 3997696\n",
      "51.9102066282\n",
      "done  77 65536 4063232\n",
      "51.9109010696\n",
      "done  78 65536 4128768\n",
      "51.9104003906\n",
      "done  79 65536 4194304\n",
      "51.9159259218\n",
      "done  80 65536 4259840\n",
      "51.9155246108\n",
      "done  81 65536 4325376\n",
      "51.9177605124\n",
      "done  82 65536 4390912\n",
      "51.9189806952\n",
      "done  83 65536 4456448\n",
      "51.9226074219\n",
      "done  84 65536 4521984\n",
      "51.9282811125\n",
      "done  85 65536 4587520\n",
      "51.932864719\n",
      "done  86 65536 4653056\n",
      "51.9308638899\n",
      "done  87 65536 4718592\n",
      "51.934979413\n",
      "done  88 65536 4784128\n",
      "51.9401448568\n",
      "done  89 65536 4849664\n",
      "51.9397735596\n",
      "done  90 65536 4915200\n",
      "51.9370339134\n",
      "done  91 65536 4980736\n",
      "51.9419352214\n",
      "done  92 65536 5046272\n",
      "51.9402033166\n",
      "done  93 65536 5111808\n",
      "51.9450569153\n",
      "done  94 65536 5177344\n",
      "51.9449304651\n",
      "done  95 65536 5242880\n",
      "51.9420158572\n",
      "done  96 65536 5308416\n",
      "51.9425357681\n",
      "done  97 65536 5373952\n",
      "51.9402640206\n",
      "done  98 65536 5439488\n",
      "51.9416180779\n",
      "done  99 65536 5505024\n",
      "51.9455843194\n",
      "done  0 65536 5570560\n"
     ]
    },
    {
     "data": {
      "image/png": "[encoded data removed]",
      "text/plain": [
       "<matplotlib.figure.Figure at 0x109975f10>"
      ]
     },
     "metadata": {},
     "output_type": "display_data"
    }
   ],
   "source": [
    "import matplotlib.pyplot as plt\n",
    "import matplotlib.animation as animation\n",
    "from mpl_toolkits.mplot3d import Axes3D\n",
    "from matplotlib import cm\n",
    "%matplotlib inline \n",
    "\n",
    "fig = plt.figure()\n",
    "ax = fig.add_subplot(111, projection='3d')\n",
    "\n",
    "# ani = animation.FuncAnimation(fig, animate, 10, repeat=False)\n",
    "ani = animation.FuncAnimation(fig, animate, 32, repeat=False)\n",
    "# ani = animation.FuncAnimation(fig, animate, 100, repeat=False)\n",
    "\n",
    "# note: requires gif writer; swap with plt.show()\n",
    "ani.save('MC_Agent.gif', writer='imagemagick', fps=3)\n",
    "# plt.show()"
   ]
  },
  {
   "cell_type": "code",
   "execution_count": 53,
   "metadata": {
    "collapsed": false
   },
   "outputs": [
    {
     "data": {
      "text/html": [
       "<img src=\"MC_Agent.gif\"/>"
      ],
      "text/plain": [
       "<IPython.core.display.Image object>"
      ]
     },
     "execution_count": 53,
     "metadata": {},
     "output_type": "execute_result"
    }
   ],
   "source": [
    "from IPython.display import Image\n",
    "# Image(filename='animation.gif') \n",
    "Image(url=\"MC_Agent.gif\")"
   ]
  },
  {
   "cell_type": "code",
   "execution_count": 49,
   "metadata": {
    "collapsed": false
   },
   "outputs": [
    {
     "data": {
      "text/plain": [
       "<easy21.Environment instance at 0x10967db00>"
      ]
     },
     "execution_count": 49,
     "metadata": {},
     "output_type": "execute_result"
    }
   ],
   "source": [
    "agent.env"
   ]
  },
  {
   "cell_type": "code",
   "execution_count": null,
   "metadata": {
    "collapsed": true
   },
   "outputs": [],
   "source": []
  },
  {
   "cell_type": "code",
   "execution_count": null,
   "metadata": {
    "collapsed": true
   },
   "outputs": [],
   "source": []
  }
 ],
 "metadata": {
  "kernelspec": {
   "display_name": "Python 2",
   "language": "python",
   "name": "python2"
  },
  "language_info": {
   "codemirror_mode": {
    "name": "ipython",
    "version": 2
   },
   "file_extension": ".py",
   "mimetype": "text/x-python",
   "name": "python",
   "nbconvert_exporter": "python",
   "pygments_lexer": "ipython2",
   "version": "2.7.11"
  }
 },
 "nbformat": 4,
 "nbformat_minor": 0
}
