{
 "cells": [
  {
   "cell_type": "code",
   "execution_count": 1,
   "metadata": {
    "collapsed": false
   },
   "outputs": [],
   "source": [
    "from easy21c import *\n",
    "import numpy as np"
   ]
  },
  {
   "cell_type": "markdown",
   "metadata": {},
   "source": [
    "#### Implement Sarsa(λ) in 21s. \n",
    "- [x] Initialise the value function to zero. \n",
    "- [x] Use the same step-size and exploration schedules as in the previous section. \n",
    "- [x] Run the algorithm with parameter values λ ∈ {0, 0.1, 0.2, ..., 1}. \n",
    "- [x] Stop each run after 1000 episodes \n",
    "    and report the mean-squared error over all states and actions, \n",
    "    comparing the true values Q∗(s,a) computed in the previous section with the estimated values Q(s, a) computed by Sarsa. \n",
    "- [x] Plot the mean- squared error against λ. \n",
    "- [x] For λ = 0 and λ = 1 only, plot the learning curve of mean-squared error against episode number. \n",
    "\n",
    "\n"
   ]
  },
  {
   "cell_type": "code",
   "execution_count": 2,
   "metadata": {
    "collapsed": false
   },
   "outputs": [],
   "source": [
    "class Sarsa_Agent:\n",
    "    def __init__(self, environment, n0, mlambda):\n",
    "        self.n0 = float(n0)\n",
    "        self.env = environment\n",
    "        self.mlambda = mlambda\n",
    "        \n",
    "        # N(s) is the number of times that state s has been visited\n",
    "        # N(s,a) is the number of times that action a has been selected from state s.\n",
    "        self.N = np.zeros((self.env.dealer_values_count,\n",
    "                           self.env.player_values_count, \n",
    "                           self.env.actions_count))\n",
    "        \n",
    "        self.Q = np.zeros((self.env.dealer_values_count,\n",
    "                           self.env.player_values_count, \n",
    "                           self.env.actions_count))\n",
    "        self.E = np.zeros((self.env.dealer_values_count, self.env.player_values_count, self.env.actions_count))\n",
    "\n",
    "        # Initialise the value function to zero. \n",
    "        self.V = np.zeros((self.env.dealer_values_count, self.env.player_values_count))\n",
    "        \n",
    "        self.count_wins = 0\n",
    "        self.iterations = 0\n",
    "\n",
    "        # get optimal action, with epsilon exploration (epsilon dependent on number of visits to the state)\n",
    "    # ε-greedy exploration strategy with εt = N0/(N0 + N(st)), \n",
    "    def train_get_action(self, state):\n",
    "        dealer_idx = state.dealer-1\n",
    "        player_idx = state.player-1\n",
    "        try:\n",
    "            n_visits = sum(self.N[dealer_idx, player_idx, :])\n",
    "        except:\n",
    "            n_visits = 0        \n",
    "\n",
    "        # epsilon = N0/(N0 + N(st)\n",
    "        curr_epsilon = self.n0 / (self.n0 + n_visits)\n",
    "\n",
    "        # epsilon greedy policy\n",
    "        if random.random() < curr_epsilon:\n",
    "            r_action = Actions.hit if random.random()<0.5 else Actions.stick\n",
    "#             if (dealer_idx == 0 and player_idx == 0):\n",
    "#                 print (\"epsilon:%s, random:%s \" % (curr_epsilon, r_action))\n",
    "            return r_action\n",
    "        else:\n",
    "            action = Actions.to_action(np.argmax(self.Q[dealer_idx, player_idx, :]))\n",
    "#             if (dealer_idx == 0 and player_idx == 0):\n",
    "#                 print (\"epsilon:%s Qvals:%s Q:%s\" % (curr_epsilon, self.Q[dealer_idx, player_idx, :], action))\n",
    "            return action\n",
    "\n",
    "    def get_action(self, state):\n",
    "        action = Actions.to_action(np.argmax(self.Q[state.dealer_idx(), state.player_idx(), :]))\n",
    "        return action\n",
    "\n",
    "    def validate(self, iterations):        \n",
    "        wins = 0; \n",
    "        # Loop episodes\n",
    "        for episode in xrange(iterations):\n",
    "\n",
    "            s = self.env.get_start_state()\n",
    "            \n",
    "            while not s.term:\n",
    "                # execute action\n",
    "                a = self.get_action(s)\n",
    "                s, r = self.env.step(s, a)\n",
    "            wins = wins+1 if r==1 else wins \n",
    "\n",
    "        win_percentage = float(wins)/iterations*100\n",
    "        return win_percentage\n",
    "\n",
    "\n",
    "                \n",
    "                \n",
    "\n",
    "\n",
    "\n",
    "    def train(self, iterations):        \n",
    "        \n",
    "        # Loop episodes\n",
    "        for episode in xrange(iterations):\n",
    "            self.E = np.zeros((self.env.dealer_values_count, self.env.player_values_count, self.env.actions_count))\n",
    "\n",
    "            # get initial state for current episode\n",
    "            s = self.env.get_start_state()\n",
    "            a = self.train_get_action(s)\n",
    "            a_next = a\n",
    "            \n",
    "            # Execute until game ends\n",
    "            while not s.term:\n",
    "                # update visits\n",
    "                self.N[s.dealer_idx(), s.player_idx(), Actions.as_int(a)] += 1\n",
    "                \n",
    "                # execute action\n",
    "                s_next, r = self.env.step(s, a)\n",
    "                \n",
    "                q = self.Q[s.dealer_idx(), s.player_idx(),  Actions.as_int(a)]\n",
    "                                \n",
    "                if not s_next.term:\n",
    "                    # choose next action with epsilon greedy policy\n",
    "                    a_next = self.train_get_action(s_next)\n",
    "                    \n",
    "                    next_q = self.Q[s_next.dealer_idx(), s_next.player_idx(), Actions.as_int(a_next)]\n",
    "                    delta = r + next_q - q\n",
    "                else:\n",
    "                    delta = r - q\n",
    "                \n",
    "#                 alpha = 1.0  / (self.N[s.dealer_idx(), s.player_idx(),  Actions.as_int(a)])\n",
    "#                 update = alpha * delta\n",
    "#                 self.Q[s.dealer_idx(), s.player_idx(),  Actions.as_int(a)] += update\n",
    "                \n",
    "                self.E[s.dealer_idx(), s.player_idx(),  Actions.as_int(a)] += 1\n",
    "                alpha = 1.0  / (self.N[s.dealer_idx(), s.player_idx(),  Actions.as_int(a)])\n",
    "                update = alpha * delta * self.E\n",
    "                self.Q += update\n",
    "                self.E *= self.mlambda\n",
    "\n",
    "                # reassign s and a\n",
    "                s = s_next\n",
    "                a = a_next\n",
    "\n",
    "            #if episode%10000==0: print \"Episode: %d, Reward: %d\" %(episode, my_state.rew)\n",
    "            self.count_wins = self.count_wins+1 if r==1 else self.count_wins\n",
    "\n",
    "        self.iterations += iterations\n",
    "#       print float(self.count_wins)/self.iterations*100\n",
    "\n",
    "        # Derive value function\n",
    "        for d in xrange(self.env.dealer_values_count):\n",
    "            for p in xrange(self.env.player_values_count):\n",
    "                self.V[d,p] = max(self.Q[d, p, :])\n",
    "                \n",
    "    def plot_frame(self, ax):\n",
    "        def get_stat_val(x, y):\n",
    "            return self.V[x, y]\n",
    "\n",
    "        X = np.arange(0, self.env.dealer_values_count, 1)\n",
    "        Y = np.arange(0, self.env.player_values_count, 1)\n",
    "        X, Y = np.meshgrid(X, Y)\n",
    "        Z = get_stat_val(X, Y)\n",
    "        surf = ax.plot_surface(X, Y, Z, rstride=1, cstride=1, cmap=cm.coolwarm, linewidth=0, antialiased=False)\n",
    "        return surf"
   ]
  },
  {
   "cell_type": "code",
   "execution_count": 3,
   "metadata": {
    "collapsed": false
   },
   "outputs": [],
   "source": [
    "N0 = 100\n",
    "agent = Sarsa_Agent(Environment(), N0, 0.9)\n",
    "\n",
    "for i in xrange (10):\n",
    "    agent.train(50000)"
   ]
  },
  {
   "cell_type": "markdown",
   "metadata": {},
   "source": [
    "# Plot the mean- squared error against λ.\n",
    "Stop each run after 1000 episodes and report the mean-squared error over all states and actions, comparing the true values Q∗(s,a) computed in the previous section with the estimated values Q(s, a) computed by Sarsa."
   ]
  },
  {
   "cell_type": "code",
   "execution_count": 4,
   "metadata": {
    "collapsed": false,
    "scrolled": true
   },
   "outputs": [
    {
     "name": "stdout",
     "output_type": "stream",
     "text": [
      "51.9379\n"
     ]
    }
   ],
   "source": [
    "mc_agent = MC_Agent(Environment(), 100)\n",
    "mc_agent.train(1000000)"
   ]
  },
  {
   "cell_type": "code",
   "execution_count": 5,
   "metadata": {
    "collapsed": false
   },
   "outputs": [],
   "source": [
    "N0 = 100\n",
    "lambdas = [0,0.1,0.2,0.3,0.4,0.5,0.6,0.7,0.8,0.9,1]\n",
    "agent_list = []\n",
    "sme_list = []\n",
    "n_elements = mc_agent.Q.shape[0]*mc_agent.Q.shape[1]*2\n",
    "for l in lambdas:\n",
    "    agent = Sarsa_Agent(Environment(), N0, l)\n",
    "    agent_list.append(l)\n",
    "\n",
    "    agent.train(1000)\n",
    "    sme = np.sum(np.square(agent.Q-mc_agent.Q))/float(n_elements)\n",
    "    sme_list.append(sme)\n"
   ]
  },
  {
   "cell_type": "markdown",
   "metadata": {},
   "source": [
    "### For λ = 0 and λ = 1 only, plot the learning curve of mean-squared error against episode number."
   ]
  },
  {
   "cell_type": "code",
   "execution_count": 6,
   "metadata": {
    "collapsed": false
   },
   "outputs": [
    {
     "data": {
      "image/png": "[encoded data removed]",
      "text/plain": [
       "<matplotlib.figure.Figure at 0x105b34510>"
      ]
     },
     "metadata": {},
     "output_type": "display_data"
    }
   ],
   "source": [
    "import matplotlib.pyplot as plt\n",
    "import matplotlib.animation as animation\n",
    "from mpl_toolkits.mplot3d import Axes3D\n",
    "from matplotlib import cm\n",
    "%matplotlib inline \n",
    "\n",
    "fig = plt.figure(\"N100\")\n",
    "surf = plt.plot(lambdas[1:10], sme_list[1:10])\n",
    "\n",
    "plt.show()"
   ]
  },
  {
   "cell_type": "code",
   "execution_count": 7,
   "metadata": {
    "collapsed": false
   },
   "outputs": [
    {
     "data": {
      "image/png": "[encoded data removed]",
      "text/plain": [
       "<matplotlib.figure.Figure at 0x108901c90>"
      ]
     },
     "metadata": {},
     "output_type": "display_data"
    }
   ],
   "source": [
    "N0 = 100\n",
    "l = 0.0\n",
    "learning_rate = []\n",
    "learning_rate_i = []\n",
    "n_elements = len(mc_agent.Q)\n",
    "agent = Sarsa_Agent(Environment(), N0, l)\n",
    "for i in xrange(1000):\n",
    "    learning_rate_i.append(i)\n",
    "    agent.train(1)\n",
    "    sme = np.sum(np.square(agent.Q-mc_agent.Q))/float(1000)\n",
    "    \n",
    "    learning_rate.append(sme)\n",
    "fig = plt.figure(\"0.0\")\n",
    "surf = plt.plot(learning_rate_i, learning_rate)\n",
    "plt.show()"
   ]
  },
  {
   "cell_type": "code",
   "execution_count": 8,
   "metadata": {
    "collapsed": false
   },
   "outputs": [
    {
     "data": {
      "image/png": "[encoded data removed]",
      "text/plain": [
       "<matplotlib.figure.Figure at 0x10894b190>"
      ]
     },
     "metadata": {},
     "output_type": "display_data"
    }
   ],
   "source": [
    "N0 = 100\n",
    "l = 1.0\n",
    "learning_rate = []\n",
    "learning_rate_i = []\n",
    "agent = Sarsa_Agent(Environment(), N0, l)\n",
    "for i in xrange(1000):\n",
    "    learning_rate_i.append(i)\n",
    "    agent.train(1)\n",
    "    sme = np.sum(np.square(agent.Q-mc_agent.Q))/float(1000)\n",
    "    \n",
    "    learning_rate.append(sme)\n",
    "fig = plt.figure(\"0.0\")\n",
    "surf = plt.plot(learning_rate_i, learning_rate)\n",
    "plt.show()"
   ]
  },
  {
   "cell_type": "markdown",
   "metadata": {},
   "source": [
    "# plot from #2"
   ]
  },
  {
   "cell_type": "code",
   "execution_count": 9,
   "metadata": {
    "collapsed": true
   },
   "outputs": [],
   "source": [
    "def animate(frame):\n",
    "    i = agent.iterations\n",
    "    step_size = i\n",
    "    step_size = max(1, step_size)\n",
    "    step_size = min(step_size, 2 ** 16)\n",
    "    agent.train(step_size)\n",
    "\n",
    "    ax.clear()\n",
    "    surf =  agent.plot_frame(ax)\n",
    "    plt.title('MC score:%s frame:%s step_size:%s ' % (float(agent.count_wins)/agent.iterations*100, frame, step_size) )\n",
    "    # plt.draw()\n",
    "    fig.canvas.draw()\n",
    "    print \"done \", frame, step_size, i\n",
    "    return surf"
   ]
  },
  {
   "cell_type": "code",
   "execution_count": 10,
   "metadata": {
    "collapsed": false,
    "scrolled": true
   },
   "outputs": [
    {
     "name": "stdout",
     "output_type": "stream",
     "text": [
      "done  0 1 0\n",
      "done  0 1 1\n",
      "done  1 2 2\n",
      "done  2 4 4\n",
      "done  3 8 8\n",
      "done  4 16 16\n",
      "done  5 32 32\n",
      "done  6 64 64\n",
      "done  7 128 128\n",
      "done  8 256 256\n",
      "done  9 512 512\n",
      "done  10 1024 1024\n",
      "done  11 2048 2048\n",
      "done  12 4096 4096\n",
      "done  13 8192 8192\n",
      "done  14 16384 16384\n",
      "done  15 32768 32768\n",
      "done  16 65536 65536\n",
      "done  17 65536 131072\n",
      "done  18 65536 196608\n",
      "done  19 65536 262144\n",
      "done  20 65536 327680\n",
      "done  21 65536 393216\n",
      "done  22 65536 458752\n",
      "done  23 65536 524288\n",
      "done  24 65536 589824\n",
      "done  25 65536 655360\n",
      "done  26 65536 720896\n",
      "done  27 65536 786432\n",
      "done  28 65536 851968\n",
      "done  29 65536 917504\n",
      "done  30 65536 983040\n",
      "done  31 65536 1048576\n",
      "done  32 65536 1114112\n",
      "done  33 65536 1179648\n",
      "done  34 65536 1245184\n",
      "done  35 65536 1310720\n",
      "done  36 65536 1376256\n",
      "done  37 65536 1441792\n",
      "done  38 65536 1507328\n",
      "done  39 65536 1572864\n",
      "done  40 65536 1638400\n",
      "done  41 65536 1703936\n",
      "done  42 65536 1769472\n",
      "done  43 65536 1835008\n",
      "done  44 65536 1900544\n",
      "done  45 65536 1966080\n",
      "done  46 65536 2031616\n",
      "done  47 65536 2097152\n",
      "done  48 65536 2162688\n",
      "done  49 65536 2228224\n",
      "done  50 65536 2293760\n",
      "done  51 65536 2359296\n",
      "done  52 65536 2424832\n",
      "done  53 65536 2490368\n",
      "done  54 65536 2555904\n",
      "done  55 65536 2621440\n",
      "done  56 65536 2686976\n",
      "done  57 65536 2752512\n",
      "done  58 65536 2818048\n",
      "done  59 65536 2883584\n",
      "done  60 65536 2949120\n",
      "done  61 65536 3014656\n",
      "done  62 65536 3080192\n",
      "done  63 65536 3145728\n",
      "done  64 65536 3211264\n",
      "done  65 65536 3276800\n",
      "done  66 65536 3342336\n",
      "done  67 65536 3407872\n",
      "done  68 65536 3473408\n",
      "done  69 65536 3538944\n",
      "done  70 65536 3604480\n",
      "done  71 65536 3670016\n",
      "done  72 65536 3735552\n",
      "done  73 65536 3801088\n",
      "done  74 65536 3866624\n",
      "done  75 65536 3932160\n",
      "done  76 65536 3997696\n",
      "done  77 65536 4063232\n",
      "done  78 65536 4128768\n",
      "done  79 65536 4194304\n",
      "done  80 65536 4259840\n",
      "done  81 65536 4325376\n",
      "done  82 65536 4390912\n",
      "done  83 65536 4456448\n",
      "done  84 65536 4521984\n",
      "done  85 65536 4587520\n",
      "done  86 65536 4653056\n",
      "done  87 65536 4718592\n",
      "done  88 65536 4784128\n",
      "done  89 65536 4849664\n",
      "done  90 65536 4915200\n",
      "done  91 65536 4980736\n",
      "done  92 65536 5046272\n",
      "done  93 65536 5111808\n",
      "done  94 65536 5177344\n",
      "done  95 65536 5242880\n",
      "done  96 65536 5308416\n",
      "done  97 65536 5373952\n",
      "done  98 65536 5439488\n",
      "done  99 65536 5505024\n",
      "done  100 65536 5570560\n",
      "done  101 65536 5636096\n",
      "done  102 65536 5701632\n",
      "done  103 65536 5767168\n",
      "done  104 65536 5832704\n",
      "done  105 65536 5898240\n",
      "done  106 65536 5963776\n",
      "done  107 65536 6029312\n",
      "done  108 65536 6094848\n",
      "done  109 65536 6160384\n",
      "done  110 65536 6225920\n",
      "done  111 65536 6291456\n",
      "done  112 65536 6356992\n",
      "done  113 65536 6422528\n",
      "done  114 65536 6488064\n",
      "done  115 65536 6553600\n",
      "done  116 65536 6619136\n",
      "done  117 65536 6684672\n",
      "done  118 65536 6750208\n",
      "done  119 65536 6815744\n",
      "done  120 65536 6881280\n",
      "done  121 65536 6946816\n",
      "done  122 65536 7012352\n",
      "done  123 65536 7077888\n",
      "done  124 65536 7143424\n",
      "done  125 65536 7208960\n",
      "done  126 65536 7274496\n",
      "done  127 65536 7340032\n",
      "done  128 65536 7405568\n",
      "done  129 65536 7471104\n",
      "done  130 65536 7536640\n",
      "done  131 65536 7602176\n",
      "done  132 65536 7667712\n",
      "done  133 65536 7733248\n",
      "done  134 65536 7798784\n",
      "done  135 65536 7864320\n",
      "done  136 65536 7929856\n",
      "done  137 65536 7995392\n",
      "done  138 65536 8060928\n",
      "done  139 65536 8126464\n",
      "done  140 65536 8192000\n",
      "done  141 65536 8257536\n",
      "done  142 65536 8323072\n",
      "done  143 65536 8388608\n",
      "done  144 65536 8454144\n",
      "done  145 65536 8519680\n",
      "done  146 65536 8585216\n",
      "done  147 65536 8650752\n",
      "done  148 65536 8716288\n",
      "done  149 65536 8781824\n",
      "done  150 65536 8847360\n",
      "done  151 65536 8912896\n",
      "done  152 65536 8978432\n",
      "done  153 65536 9043968\n",
      "done  154 65536 9109504\n",
      "done  155 65536 9175040\n",
      "done  156 65536 9240576\n",
      "done  157 65536 9306112\n",
      "done  158 65536 9371648\n",
      "done  159 65536 9437184\n",
      "done  160 65536 9502720\n",
      "done  161 65536 9568256\n",
      "done  162 65536 9633792\n",
      "done  163 65536 9699328\n",
      "done  164 65536 9764864\n",
      "done  165 65536 9830400\n",
      "done  166 65536 9895936\n",
      "done  167 65536 9961472\n",
      "done  168 65536 10027008\n",
      "done  169 65536 10092544\n",
      "done  170 65536 10158080\n",
      "done  171 65536 10223616\n",
      "done  172 65536 10289152\n",
      "done  173 65536 10354688\n",
      "done  174 65536 10420224\n",
      "done  175 65536 10485760\n",
      "done  176 65536 10551296\n",
      "done  177 65536 10616832\n",
      "done  178 65536 10682368\n",
      "done  179 65536 10747904\n",
      "done  180 65536 10813440\n",
      "done  181 65536 10878976\n",
      "done  182 65536 10944512\n",
      "done  183 65536 11010048\n",
      "done  184 65536 11075584\n",
      "done  185 65536 11141120\n",
      "done  186 65536 11206656\n",
      "done  187 65536 11272192\n",
      "done  188 65536 11337728\n",
      "done  189 65536 11403264\n",
      "done  190 65536 11468800\n",
      "done  191 65536 11534336\n",
      "done  192 65536 11599872\n",
      "done  193 65536 11665408\n",
      "done  194 65536 11730944\n",
      "done  195 65536 11796480\n",
      "done  196 65536 11862016\n",
      "done  197 65536 11927552\n",
      "done  198 65536 11993088\n",
      "done  199 65536 12058624\n",
      "done  200 65536 12124160\n",
      "done  201 65536 12189696\n",
      "done  202 65536 12255232\n",
      "done  203 65536 12320768\n",
      "done  204 65536 12386304\n",
      "done  205 65536 12451840\n",
      "done  206 65536 12517376\n",
      "done  207 65536 12582912\n",
      "done  208 65536 12648448\n",
      "done  209 65536 12713984\n",
      "done  210 65536 12779520\n",
      "done  211 65536 12845056\n",
      "done  212 65536 12910592\n",
      "done  213 65536 12976128\n",
      "done  214 65536 13041664\n",
      "done  215 65536 13107200\n",
      "done  216 65536 13172736\n",
      "done  217 65536 13238272\n",
      "done  218 65536 13303808\n",
      "done  219 65536 13369344\n",
      "done  220 65536 13434880\n",
      "done  221 65536 13500416\n",
      "done  222 65536 13565952\n",
      "done  223 65536 13631488\n",
      "done  224 65536 13697024\n",
      "done  225 65536 13762560\n",
      "done  226 65536 13828096\n",
      "done  227 65536 13893632\n",
      "done  228 65536 13959168\n",
      "done  229 65536 14024704\n",
      "done  230 65536 14090240\n",
      "done  231 65536 14155776\n",
      "done  232 65536 14221312\n",
      "done  233 65536 14286848\n",
      "done  234 65536 14352384\n",
      "done  235 65536 14417920\n",
      "done  236 65536 14483456\n",
      "done  237 65536 14548992\n",
      "done  238 65536 14614528\n",
      "done  239 65536 14680064\n",
      "done  240 65536 14745600\n",
      "done  241 65536 14811136\n",
      "done  242 65536 14876672\n",
      "done  243 65536 14942208\n",
      "done  244 65536 15007744\n",
      "done  245 65536 15073280\n",
      "done  246 65536 15138816\n",
      "done  247 65536 15204352\n",
      "done  248 65536 15269888\n",
      "done  249 65536 15335424\n",
      "done  250 65536 15400960\n",
      "done  251 65536 15466496\n",
      "done  252 65536 15532032\n",
      "done  253 65536 15597568\n",
      "done  254 65536 15663104\n",
      "done  255 65536 15728640\n",
      "done  256 65536 15794176\n",
      "done  257 65536 15859712\n",
      "done  258 65536 15925248\n",
      "done  259 65536 15990784\n",
      "done  260 65536 16056320\n",
      "done  261 65536 16121856\n",
      "done  262 65536 16187392\n",
      "done  263 65536 16252928\n",
      "done  264 65536 16318464\n",
      "done  265 65536 16384000\n",
      "done  266 65536 16449536\n",
      "done  267 65536 16515072\n",
      "done  268 65536 16580608\n",
      "done  269 65536 16646144\n",
      "done  270 65536 16711680\n",
      "done  271 65536 16777216\n",
      "done  272 65536 16842752\n",
      "done  273 65536 16908288\n",
      "done  274 65536 16973824\n",
      "done  275 65536 17039360\n",
      "done  276 65536 17104896\n",
      "done  277 65536 17170432\n",
      "done  278 65536 17235968\n",
      "done  279 65536 17301504\n",
      "done  280 65536 17367040\n",
      "done  281 65536 17432576\n",
      "done  282 65536 17498112\n",
      "done  283 65536 17563648\n",
      "done  284 65536 17629184\n",
      "done  285 65536 17694720\n",
      "done  286 65536 17760256\n",
      "done  287 65536 17825792\n",
      "done  288 65536 17891328\n",
      "done  289 65536 17956864\n",
      "done  290 65536 18022400\n",
      "done  291 65536 18087936\n",
      "done  292 65536 18153472\n",
      "done  293 65536 18219008\n",
      "done  294 65536 18284544\n",
      "done  295 65536 18350080\n",
      "done  296 65536 18415616\n",
      "done  297 65536 18481152\n",
      "done  298 65536 18546688\n",
      "done  299 65536 18612224\n",
      "done  300 65536 18677760\n",
      "done  301 65536 18743296\n",
      "done  302 65536 18808832\n",
      "done  303 65536 18874368\n",
      "done  304 65536 18939904\n",
      "done  305 65536 19005440\n",
      "done  306 65536 19070976\n",
      "done  307 65536 19136512\n",
      "done  308 65536 19202048\n",
      "done  309 65536 19267584\n",
      "done  310 65536 19333120\n",
      "done  311 65536 19398656\n",
      "done  312 65536 19464192\n",
      "done  313 65536 19529728\n",
      "done  314 65536 19595264\n",
      "done  315 65536 19660800\n",
      "done  316 65536 19726336\n",
      "done  317 65536 19791872\n",
      "done  318 65536 19857408\n",
      "done  319 65536 19922944\n",
      "done  320 65536 19988480\n",
      "done  321 65536 20054016\n",
      "done  322 65536 20119552\n",
      "done  323 65536 20185088\n",
      "done  324 65536 20250624\n",
      "done  325 65536 20316160\n",
      "done  326 65536 20381696\n",
      "done  327 65536 20447232\n",
      "done  328 65536 20512768\n",
      "done  329 65536 20578304\n",
      "done  330 65536 20643840\n",
      "done  331 65536 20709376\n",
      "done  332 65536 20774912\n",
      "done  333 65536 20840448\n",
      "done  334 65536 20905984\n",
      "done  335 65536 20971520\n",
      "done  336 65536 21037056\n",
      "done  337 65536 21102592\n",
      "done  338 65536 21168128\n",
      "done  339 65536 21233664\n",
      "done  340 65536 21299200\n",
      "done  341 65536 21364736\n",
      "done  342 65536 21430272\n",
      "done  343 65536 21495808\n",
      "done  344 65536 21561344\n",
      "done  345 65536 21626880\n",
      "done  346 65536 21692416\n",
      "done  347 65536 21757952\n",
      "done  348 65536 21823488\n",
      "done  349 65536 21889024\n",
      "done  350 65536 21954560\n",
      "done  351 65536 22020096\n",
      "done  352 65536 22085632\n",
      "done  353 65536 22151168\n",
      "done  354 65536 22216704\n",
      "done  355 65536 22282240\n",
      "done  356 65536 22347776\n",
      "done  357 65536 22413312\n",
      "done  358 65536 22478848\n",
      "done  359 65536 22544384\n",
      "done  360 65536 22609920\n",
      "done  361 65536 22675456\n",
      "done  362 65536 22740992\n",
      "done  363 65536 22806528\n",
      "done  364 65536 22872064\n",
      "done  365 65536 22937600\n",
      "done  366 65536 23003136\n",
      "done  367 65536 23068672\n",
      "done  368 65536 23134208\n",
      "done  369 65536 23199744\n",
      "done  370 65536 23265280\n",
      "done  371 65536 23330816\n",
      "done  372 65536 23396352\n",
      "done  373 65536 23461888\n",
      "done  374 65536 23527424\n",
      "done  375 65536 23592960\n",
      "done  376 65536 23658496\n",
      "done  377 65536 23724032\n",
      "done  378 65536 23789568\n",
      "done  379 65536 23855104\n",
      "done  380 65536 23920640\n",
      "done  381 65536 23986176\n",
      "done  382 65536 24051712\n",
      "done  383 65536 24117248\n",
      "done  384 65536 24182784\n",
      "done  385 65536 24248320\n",
      "done  386 65536 24313856\n",
      "done  387 65536 24379392\n",
      "done  388 65536 24444928\n",
      "done  389 65536 24510464\n",
      "done  390 65536 24576000\n",
      "done  391 65536 24641536\n",
      "done  392 65536 24707072\n",
      "done  393 65536 24772608\n",
      "done  394 65536 24838144\n",
      "done  395 65536 24903680\n",
      "done  396 65536 24969216\n",
      "done  397 65536 25034752\n",
      "done  398 65536 25100288\n",
      "done  399 65536 25165824\n",
      "done  400 65536 25231360\n",
      "done  401 65536 25296896\n",
      "done  402 65536 25362432\n",
      "done  403 65536 25427968\n",
      "done  404 65536 25493504\n",
      "done  405 65536 25559040\n",
      "done  406 65536 25624576\n",
      "done  407 65536 25690112\n",
      "done  408 65536 25755648\n",
      "done  409 65536 25821184\n",
      "done  410 65536 25886720\n",
      "done  411 65536 25952256\n",
      "done  412 65536 26017792\n",
      "done  413 65536 26083328\n",
      "done  414 65536 26148864\n",
      "done  415 65536 26214400\n",
      "done  416 65536 26279936\n",
      "done  417 65536 26345472\n",
      "done  418 65536 26411008\n",
      "done  419 65536 26476544\n",
      "done  420 65536 26542080\n",
      "done  421 65536 26607616\n",
      "done  422 65536 26673152\n",
      "done  423 65536 26738688\n",
      "done  424 65536 26804224\n",
      "done  425 65536 26869760\n",
      "done  426 65536 26935296\n",
      "done  427 65536 27000832\n",
      "done  428 65536 27066368\n",
      "done  429 65536 27131904\n",
      "done  430 65536 27197440\n",
      "done  431 65536 27262976\n",
      "done  432 65536 27328512\n",
      "done  433 65536 27394048\n",
      "done  434 65536 27459584\n",
      "done  435 65536 27525120\n",
      "done  436 65536 27590656\n",
      "done  437 65536 27656192\n",
      "done  438 65536 27721728\n",
      "done  439 65536 27787264\n",
      "done  440 65536 27852800\n",
      "done  441 65536 27918336\n",
      "done  442 65536 27983872\n",
      "done  443 65536 28049408\n",
      "done  444 65536 28114944\n",
      "done  445 65536 28180480\n",
      "done  446 65536 28246016\n",
      "done  447 65536 28311552\n",
      "done  448 65536 28377088\n",
      "done  449 65536 28442624\n",
      "done  450 65536 28508160\n",
      "done  451 65536 28573696\n",
      "done  452 65536 28639232\n",
      "done  453 65536 28704768\n",
      "done  454 65536 28770304\n",
      "done  455 65536 28835840\n",
      "done  456 65536 28901376\n",
      "done  457 65536 28966912\n",
      "done  458 65536 29032448\n",
      "done  459 65536 29097984\n",
      "done  460 65536 29163520\n",
      "done  461 65536 29229056\n",
      "done  462 65536 29294592\n",
      "done  463 65536 29360128\n",
      "done  464 65536 29425664\n",
      "done  465 65536 29491200\n",
      "done  466 65536 29556736\n",
      "done  467 65536 29622272\n",
      "done  468 65536 29687808\n",
      "done  469 65536 29753344\n",
      "done  470 65536 29818880\n",
      "done  471 65536 29884416\n",
      "done  472 65536 29949952\n",
      "done  473 65536 30015488\n",
      "done  474 65536 30081024\n",
      "done  475 65536 30146560\n",
      "done  476 65536 30212096\n",
      "done  477 65536 30277632\n",
      "done  478 65536 30343168\n",
      "done  479 65536 30408704\n",
      "done  480 65536 30474240\n",
      "done  481 65536 30539776\n",
      "done  482 65536 30605312\n",
      "done  483 65536 30670848\n",
      "done  484 65536 30736384\n",
      "done  485 65536 30801920\n",
      "done  486 65536 30867456\n",
      "done  487 65536 30932992\n",
      "done  488 65536 30998528\n",
      "done  489 65536 31064064\n",
      "done  490 65536 31129600\n",
      "done  491 65536 31195136\n",
      "done  492 65536 31260672\n",
      "done  493 65536 31326208\n",
      "done  494 65536 31391744\n",
      "done  495 65536 31457280\n",
      "done  496 65536 31522816\n",
      "done  497 65536 31588352\n",
      "done  498 65536 31653888\n",
      "done  499 65536 31719424\n",
      "done  0 65536 31784960\n"
     ]
    },
    {
     "data": {
      "image/png": "[encoded data removed]",
      "text/plain": [
       "<matplotlib.figure.Figure at 0x108af3450>"
      ]
     },
     "metadata": {},
     "output_type": "display_data"
    }
   ],
   "source": [
    "import matplotlib.pyplot as plt\n",
    "import matplotlib.animation as animation\n",
    "from mpl_toolkits.mplot3d import Axes3D\n",
    "from matplotlib import cm\n",
    "%matplotlib inline \n",
    "\n",
    "N0 = 100\n",
    "mlambda = 0.2\n",
    "agent = Sarsa_Agent(Environment(), N0, mlambda)\n",
    "fig = plt.figure(\"N100\")\n",
    "ax = fig.add_subplot(111, projection='3d')\n",
    "\n",
    "# ani = animation.FuncAnimation(fig, animate, 32, repeat=False)\n",
    "ani = animation.FuncAnimation(fig, animate, 500, repeat=False)\n",
    "\n",
    "# note: requires gif writer; swap with plt.show()\n",
    "ani.save('Sarsa_Agent.gif', writer='imagemagick', fps=3)\n",
    "# plt.show()"
   ]
  },
  {
   "cell_type": "code",
   "execution_count": 11,
   "metadata": {
    "collapsed": false,
    "scrolled": true
   },
   "outputs": [
    {
     "data": {
      "text/html": [
       "<img src=\"Sarsa_Agent.gif\"/>"
      ],
      "text/plain": [
       "<IPython.core.display.Image object>"
      ]
     },
     "execution_count": 11,
     "metadata": {},
     "output_type": "execute_result"
    }
   ],
   "source": [
    "from IPython.display import Image\n",
    "Image(url=\"Sarsa_Agent.gif\")"
   ]
  },
  {
   "cell_type": "code",
   "execution_count": 12,
   "metadata": {
    "collapsed": false
   },
   "outputs": [],
   "source": [
    "# for i in xrange (10):\n",
    "#     agent.train(50000)"
   ]
  },
  {
   "cell_type": "code",
   "execution_count": null,
   "metadata": {
    "collapsed": true
   },
   "outputs": [],
   "source": []
  },
  {
   "cell_type": "code",
   "execution_count": 13,
   "metadata": {
    "collapsed": false
   },
   "outputs": [
    {
     "data": {
      "text/plain": [
       "52.22"
      ]
     },
     "execution_count": 13,
     "metadata": {},
     "output_type": "execute_result"
    }
   ],
   "source": [
    "agent.validate(50000)"
   ]
  },
  {
   "cell_type": "code",
   "execution_count": 14,
   "metadata": {
    "collapsed": true
   },
   "outputs": [],
   "source": [
    "# 100, .75, 520 itterations = 52.8\n",
    "# 1000, .75, 520 itterations = "
   ]
  },
  {
   "cell_type": "code",
   "execution_count": null,
   "metadata": {
    "collapsed": true
   },
   "outputs": [],
   "source": []
  },
  {
   "cell_type": "code",
   "execution_count": null,
   "metadata": {
    "collapsed": true
   },
   "outputs": [],
   "source": []
  },
  {
   "cell_type": "code",
   "execution_count": null,
   "metadata": {
    "collapsed": true
   },
   "outputs": [],
   "source": []
  },
  {
   "cell_type": "code",
   "execution_count": 15,
   "metadata": {
    "collapsed": true
   },
   "outputs": [],
   "source": [
    "stick_v = np.zeros((agent.env.dealer_values_count, agent.env.player_values_count))\n",
    "hit_v = np.zeros((agent.env.dealer_values_count, agent.env.player_values_count))\n",
    "actions = np.zeros((agent.env.dealer_values_count, agent.env.player_values_count))\n",
    "values = np.zeros((agent.env.dealer_values_count, agent.env.player_values_count))\n",
    "for d in xrange(agent.env.dealer_values_count):\n",
    "    for p in xrange(agent.env.player_values_count):\n",
    "        action = Actions.to_action(np.argmax(agent.Q[d, p, :]))\n",
    "        value = agent.V[d, p]\n",
    "        values[d,p] = value \n",
    "        if (action == Actions.stick):\n",
    "            stick_v[d,p] = value\n",
    "            hit_v[d,p] = 0\n",
    "            actions[d,p] = -1\n",
    "        else:\n",
    "            hit_v[d,p] = value\n",
    "            stick_v[d,p] = 0\n",
    "            actions[d,p] = 1"
   ]
  },
  {
   "cell_type": "code",
   "execution_count": 16,
   "metadata": {
    "collapsed": false,
    "scrolled": false
   },
   "outputs": [
    {
     "data": {
      "image/png": "[encoded data removed]",
      "text/plain": [
       "<matplotlib.figure.Figure at 0x1089356d0>"
      ]
     },
     "metadata": {},
     "output_type": "display_data"
    },
    {
     "data": {
      "image/png": "[encoded data removed]",
      "text/plain": [
       "<matplotlib.figure.Figure at 0x108935ed0>"
      ]
     },
     "metadata": {},
     "output_type": "display_data"
    },
    {
     "data": {
      "image/png": "[encoded data removed]",
      "text/plain": [
       "<matplotlib.figure.Figure at 0x108d22550>"
      ]
     },
     "metadata": {},
     "output_type": "display_data"
    },
    {
     "data": {
      "image/png": "[encoded data removed]",
      "text/plain": [
       "<matplotlib.figure.Figure at 0x108a3e850>"
      ]
     },
     "metadata": {},
     "output_type": "display_data"
    }
   ],
   "source": [
    "import matplotlib.pyplot as plt\n",
    "import matplotlib.animation as animation\n",
    "from mpl_toolkits.mplot3d import Axes3D\n",
    "from matplotlib import cm\n",
    "%matplotlib inline \n",
    "\n",
    "# fig = plt.figure(\"N100\")\n",
    "# ax = fig.add_subplot()\n",
    "# bx = fig.add_subplot()\n",
    "fig, ax = plt.subplots()\n",
    "fig2, bx = plt.subplots()\n",
    "fig3, cx = plt.subplots()\n",
    "fig4, dx = plt.subplots()\n",
    "heatmap3 = ax.pcolor(actions, cmap=plt.cm.hot, alpha=0.8)\n",
    "heatmap = bx.pcolor(stick_v, cmap=plt.cm.afmhot, alpha=0.8)\n",
    "heatmap2 = cx.pcolor(hit_v, cmap=plt.cm.afmhot, alpha=0.8)\n",
    "heatmap4 = dx.pcolor(values, cmap=plt.cm.afmhot, alpha=0.8)\n",
    "plt.show()"
   ]
  },
  {
   "cell_type": "code",
   "execution_count": null,
   "metadata": {
    "collapsed": true
   },
   "outputs": [],
   "source": []
  },
  {
   "cell_type": "code",
   "execution_count": null,
   "metadata": {
    "collapsed": true
   },
   "outputs": [],
   "source": []
  },
  {
   "cell_type": "code",
   "execution_count": null,
   "metadata": {
    "collapsed": true
   },
   "outputs": [],
   "source": []
  },
  {
   "cell_type": "code",
   "execution_count": null,
   "metadata": {
    "collapsed": true
   },
   "outputs": [],
   "source": []
  }
 ],
 "metadata": {
  "kernelspec": {
   "display_name": "Python 2",
   "language": "python",
   "name": "python2"
  },
  "language_info": {
   "codemirror_mode": {
    "name": "ipython",
    "version": 2
   },
   "file_extension": ".py",
   "mimetype": "text/x-python",
   "name": "python",
   "nbconvert_exporter": "python",
   "pygments_lexer": "ipython2",
   "version": "2.7.11"
  }
 },
 "nbformat": 4,
 "nbformat_minor": 0
}
